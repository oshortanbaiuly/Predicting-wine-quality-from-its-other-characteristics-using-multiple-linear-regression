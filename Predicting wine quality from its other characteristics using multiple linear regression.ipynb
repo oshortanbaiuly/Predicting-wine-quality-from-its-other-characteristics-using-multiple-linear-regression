{
 "cells": [
  {
   "cell_type": "markdown",
   "id": "differential-shadow",
   "metadata": {},
   "source": [
    "# Project-2 \n",
    "\n",
    "## Predicting wine quality from its other characteristics using multiple linear regression"
   ]
  },
  {
   "cell_type": "markdown",
   "id": "peripheral-phone",
   "metadata": {},
   "source": [
    "*Author: Olzhas Shortanbaiuly.*"
   ]
  },
  {
   "cell_type": "markdown",
   "id": "moral-photographer",
   "metadata": {},
   "source": [
    "**Research question**: Can the pH value of red wine be predicted from its other characteristics using multiple linear regression?"
   ]
  },
  {
   "cell_type": "markdown",
   "id": "lasting-roulette",
   "metadata": {},
   "source": [
    "## Introduction "
   ]
  },
  {
   "cell_type": "markdown",
   "id": "quick-logic",
   "metadata": {},
   "source": [
    "As a topic for my Final Project, I chose **\"Red Wine Quality\"** dataset from Kaggle. It contains 12 variables and 1599 data points.\n",
    "\n",
    "pH is the measure of acidity of certain chemical which depends on the following variables:\n",
    "- **Fixed Acidity**\n",
    "- **Volatile Acidity**\n",
    "- **Citric Acid**\n",
    "- **Residual Sugar**\n",
    "- **Chlorides**\n",
    "- **Free Sulfur Dioxide**\n",
    "- **Total Sulfur Dioxide**\n",
    "- **Density**\n",
    "- **Sulphates**\n",
    "- **Alcohol**\n",
    "- **Quality**"
   ]
  },
  {
   "cell_type": "code",
   "execution_count": 1,
   "id": "personalized-perception",
   "metadata": {},
   "outputs": [
    {
     "data": {
      "text/html": [
       "<table>\n",
       "<thead><tr><th scope=col>fixed.acidity</th><th scope=col>volatile.acidity</th><th scope=col>citric.acid</th><th scope=col>residual.sugar</th><th scope=col>chlorides</th><th scope=col>free.sulfur.dioxide</th><th scope=col>total.sulfur.dioxide</th><th scope=col>density</th><th scope=col>pH</th><th scope=col>sulphates</th><th scope=col>alcohol</th><th scope=col>quality</th></tr></thead>\n",
       "<tbody>\n",
       "\t<tr><td> 7.4  </td><td>0.70  </td><td>0.00  </td><td>1.9   </td><td>0.076 </td><td>11    </td><td>34    </td><td>0.9978</td><td>3.51  </td><td>0.56  </td><td>9.4   </td><td>5     </td></tr>\n",
       "\t<tr><td> 7.8  </td><td>0.88  </td><td>0.00  </td><td>2.6   </td><td>0.098 </td><td>25    </td><td>67    </td><td>0.9968</td><td>3.20  </td><td>0.68  </td><td>9.8   </td><td>5     </td></tr>\n",
       "\t<tr><td> 7.8  </td><td>0.76  </td><td>0.04  </td><td>2.3   </td><td>0.092 </td><td>15    </td><td>54    </td><td>0.9970</td><td>3.26  </td><td>0.65  </td><td>9.8   </td><td>5     </td></tr>\n",
       "\t<tr><td>11.2  </td><td>0.28  </td><td>0.56  </td><td>1.9   </td><td>0.075 </td><td>17    </td><td>60    </td><td>0.9980</td><td>3.16  </td><td>0.58  </td><td>9.8   </td><td>6     </td></tr>\n",
       "\t<tr><td> 7.4  </td><td>0.70  </td><td>0.00  </td><td>1.9   </td><td>0.076 </td><td>11    </td><td>34    </td><td>0.9978</td><td>3.51  </td><td>0.56  </td><td>9.4   </td><td>5     </td></tr>\n",
       "\t<tr><td> 7.4  </td><td>0.66  </td><td>0.00  </td><td>1.8   </td><td>0.075 </td><td>13    </td><td>40    </td><td>0.9978</td><td>3.51  </td><td>0.56  </td><td>9.4   </td><td>5     </td></tr>\n",
       "</tbody>\n",
       "</table>\n"
      ],
      "text/latex": [
       "\\begin{tabular}{r|llllllllllll}\n",
       " fixed.acidity & volatile.acidity & citric.acid & residual.sugar & chlorides & free.sulfur.dioxide & total.sulfur.dioxide & density & pH & sulphates & alcohol & quality\\\\\n",
       "\\hline\n",
       "\t  7.4   & 0.70   & 0.00   & 1.9    & 0.076  & 11     & 34     & 0.9978 & 3.51   & 0.56   & 9.4    & 5     \\\\\n",
       "\t  7.8   & 0.88   & 0.00   & 2.6    & 0.098  & 25     & 67     & 0.9968 & 3.20   & 0.68   & 9.8    & 5     \\\\\n",
       "\t  7.8   & 0.76   & 0.04   & 2.3    & 0.092  & 15     & 54     & 0.9970 & 3.26   & 0.65   & 9.8    & 5     \\\\\n",
       "\t 11.2   & 0.28   & 0.56   & 1.9    & 0.075  & 17     & 60     & 0.9980 & 3.16   & 0.58   & 9.8    & 6     \\\\\n",
       "\t  7.4   & 0.70   & 0.00   & 1.9    & 0.076  & 11     & 34     & 0.9978 & 3.51   & 0.56   & 9.4    & 5     \\\\\n",
       "\t  7.4   & 0.66   & 0.00   & 1.8    & 0.075  & 13     & 40     & 0.9978 & 3.51   & 0.56   & 9.4    & 5     \\\\\n",
       "\\end{tabular}\n"
      ],
      "text/markdown": [
       "\n",
       "| fixed.acidity | volatile.acidity | citric.acid | residual.sugar | chlorides | free.sulfur.dioxide | total.sulfur.dioxide | density | pH | sulphates | alcohol | quality |\n",
       "|---|---|---|---|---|---|---|---|---|---|---|---|\n",
       "|  7.4   | 0.70   | 0.00   | 1.9    | 0.076  | 11     | 34     | 0.9978 | 3.51   | 0.56   | 9.4    | 5      |\n",
       "|  7.8   | 0.88   | 0.00   | 2.6    | 0.098  | 25     | 67     | 0.9968 | 3.20   | 0.68   | 9.8    | 5      |\n",
       "|  7.8   | 0.76   | 0.04   | 2.3    | 0.092  | 15     | 54     | 0.9970 | 3.26   | 0.65   | 9.8    | 5      |\n",
       "| 11.2   | 0.28   | 0.56   | 1.9    | 0.075  | 17     | 60     | 0.9980 | 3.16   | 0.58   | 9.8    | 6      |\n",
       "|  7.4   | 0.70   | 0.00   | 1.9    | 0.076  | 11     | 34     | 0.9978 | 3.51   | 0.56   | 9.4    | 5      |\n",
       "|  7.4   | 0.66   | 0.00   | 1.8    | 0.075  | 13     | 40     | 0.9978 | 3.51   | 0.56   | 9.4    | 5      |\n",
       "\n"
      ],
      "text/plain": [
       "  fixed.acidity volatile.acidity citric.acid residual.sugar chlorides\n",
       "1  7.4          0.70             0.00        1.9            0.076    \n",
       "2  7.8          0.88             0.00        2.6            0.098    \n",
       "3  7.8          0.76             0.04        2.3            0.092    \n",
       "4 11.2          0.28             0.56        1.9            0.075    \n",
       "5  7.4          0.70             0.00        1.9            0.076    \n",
       "6  7.4          0.66             0.00        1.8            0.075    \n",
       "  free.sulfur.dioxide total.sulfur.dioxide density pH   sulphates alcohol\n",
       "1 11                  34                   0.9978  3.51 0.56      9.4    \n",
       "2 25                  67                   0.9968  3.20 0.68      9.8    \n",
       "3 15                  54                   0.9970  3.26 0.65      9.8    \n",
       "4 17                  60                   0.9980  3.16 0.58      9.8    \n",
       "5 11                  34                   0.9978  3.51 0.56      9.4    \n",
       "6 13                  40                   0.9978  3.51 0.56      9.4    \n",
       "  quality\n",
       "1 5      \n",
       "2 5      \n",
       "3 5      \n",
       "4 6      \n",
       "5 5      \n",
       "6 5      "
      ]
     },
     "metadata": {},
     "output_type": "display_data"
    }
   ],
   "source": [
    "wine_data <- read.csv(\"C:/Users/admin/Desktop/winequality-red.csv\")\n",
    "head(wine_data)"
   ]
  },
  {
   "cell_type": "code",
   "execution_count": 2,
   "id": "constitutional-edgar",
   "metadata": {},
   "outputs": [],
   "source": [
    "my_model <- lm(pH ~ wine_data$fixed.acidity + wine_data$volatile.acidity + wine_data$citric.acid + wine_data$residual.sugar\n",
    "               + wine_data$chlorides + wine_data$free.sulfur.dioxide + wine_data$total.sulfur.dioxide + wine_data$density + \n",
    "               wine_data$sulphates + wine_data$alcohol + wine_data$quality, data = wine_data)"
   ]
  },
  {
   "cell_type": "code",
   "execution_count": 3,
   "id": "sophisticated-religious",
   "metadata": {},
   "outputs": [
    {
     "data": {
      "text/plain": [
       "\n",
       "Call:\n",
       "lm(formula = pH ~ wine_data$fixed.acidity + wine_data$volatile.acidity + \n",
       "    wine_data$citric.acid + wine_data$residual.sugar + wine_data$chlorides + \n",
       "    wine_data$free.sulfur.dioxide + wine_data$total.sulfur.dioxide + \n",
       "    wine_data$density + wine_data$sulphates + wine_data$alcohol + \n",
       "    wine_data$quality, data = wine_data)\n",
       "\n",
       "Residuals:\n",
       "     Min       1Q   Median       3Q      Max \n",
       "-0.33711 -0.05184 -0.00104  0.05148  0.46068 \n",
       "\n",
       "Coefficients:\n",
       "                                 Estimate Std. Error t value Pr(>|t|)    \n",
       "(Intercept)                    -6.053e+01  2.321e+00 -26.083  < 2e-16 ***\n",
       "wine_data$fixed.acidity        -9.685e-02  2.371e-03 -40.851  < 2e-16 ***\n",
       "wine_data$volatile.acidity      9.123e-03  1.624e-02   0.562    0.574    \n",
       "wine_data$citric.acid          -2.752e-02  1.925e-02  -1.429    0.153    \n",
       "wine_data$residual.sugar       -2.557e-02  1.855e-03 -13.783  < 2e-16 ***\n",
       "wine_data$chlorides            -5.174e-01  5.365e-02  -9.645  < 2e-16 ***\n",
       "wine_data$free.sulfur.dioxide   1.586e-03  2.816e-04   5.633 2.09e-08 ***\n",
       "wine_data$total.sulfur.dioxide -7.584e-04  9.403e-05  -8.066 1.42e-15 ***\n",
       "wine_data$density               6.429e+01  2.326e+00  27.647  < 2e-16 ***\n",
       "wine_data$sulphates            -7.003e-02  1.516e-02  -4.621 4.13e-06 ***\n",
       "wine_data$alcohol               7.363e-02  3.068e-03  24.001  < 2e-16 ***\n",
       "wine_data$quality              -7.080e-03  3.279e-03  -2.159    0.031 *  \n",
       "---\n",
       "Signif. codes:  0 '***' 0.001 '**' 0.01 '*' 0.05 '.' 0.1 ' ' 1\n",
       "\n",
       "Residual standard error: 0.08477 on 1587 degrees of freedom\n",
       "Multiple R-squared:  0.7006,\tAdjusted R-squared:  0.6985 \n",
       "F-statistic: 337.5 on 11 and 1587 DF,  p-value: < 2.2e-16\n"
      ]
     },
     "metadata": {},
     "output_type": "display_data"
    }
   ],
   "source": [
    "summary(my_model)"
   ]
  },
  {
   "cell_type": "markdown",
   "id": "opponent-jenny",
   "metadata": {},
   "source": [
    "We start off by removing outliers in the data. For this, we use **DFFIT** statistic."
   ]
  },
  {
   "cell_type": "code",
   "execution_count": 4,
   "id": "usual-enemy",
   "metadata": {},
   "outputs": [],
   "source": [
    "p = 11\n",
    "n = 1599"
   ]
  },
  {
   "cell_type": "code",
   "execution_count": 5,
   "id": "unlimited-grill",
   "metadata": {},
   "outputs": [
    {
     "data": {
      "text/html": [
       "<table>\n",
       "<thead><tr><th scope=col>fixed.acidity</th><th scope=col>volatile.acidity</th><th scope=col>citric.acid</th><th scope=col>residual.sugar</th><th scope=col>chlorides</th><th scope=col>free.sulfur.dioxide</th><th scope=col>total.sulfur.dioxide</th><th scope=col>density</th><th scope=col>pH</th><th scope=col>sulphates</th><th scope=col>alcohol</th><th scope=col>quality</th></tr></thead>\n",
       "<tbody>\n",
       "\t<tr><td> 7.4  </td><td>0.70  </td><td>0.00  </td><td>1.9   </td><td>0.076 </td><td>11    </td><td>34    </td><td>0.9978</td><td>3.51  </td><td>0.56  </td><td>9.4   </td><td>5     </td></tr>\n",
       "\t<tr><td> 7.8  </td><td>0.88  </td><td>0.00  </td><td>2.6   </td><td>0.098 </td><td>25    </td><td>67    </td><td>0.9968</td><td>3.20  </td><td>0.68  </td><td>9.8   </td><td>5     </td></tr>\n",
       "\t<tr><td> 7.8  </td><td>0.76  </td><td>0.04  </td><td>2.3   </td><td>0.092 </td><td>15    </td><td>54    </td><td>0.9970</td><td>3.26  </td><td>0.65  </td><td>9.8   </td><td>5     </td></tr>\n",
       "\t<tr><td>11.2  </td><td>0.28  </td><td>0.56  </td><td>1.9   </td><td>0.075 </td><td>17    </td><td>60    </td><td>0.9980</td><td>3.16  </td><td>0.58  </td><td>9.8   </td><td>6     </td></tr>\n",
       "\t<tr><td> 7.4  </td><td>0.70  </td><td>0.00  </td><td>1.9   </td><td>0.076 </td><td>11    </td><td>34    </td><td>0.9978</td><td>3.51  </td><td>0.56  </td><td>9.4   </td><td>5     </td></tr>\n",
       "\t<tr><td> 7.4  </td><td>0.66  </td><td>0.00  </td><td>1.8   </td><td>0.075 </td><td>13    </td><td>40    </td><td>0.9978</td><td>3.51  </td><td>0.56  </td><td>9.4   </td><td>5     </td></tr>\n",
       "</tbody>\n",
       "</table>\n"
      ],
      "text/latex": [
       "\\begin{tabular}{r|llllllllllll}\n",
       " fixed.acidity & volatile.acidity & citric.acid & residual.sugar & chlorides & free.sulfur.dioxide & total.sulfur.dioxide & density & pH & sulphates & alcohol & quality\\\\\n",
       "\\hline\n",
       "\t  7.4   & 0.70   & 0.00   & 1.9    & 0.076  & 11     & 34     & 0.9978 & 3.51   & 0.56   & 9.4    & 5     \\\\\n",
       "\t  7.8   & 0.88   & 0.00   & 2.6    & 0.098  & 25     & 67     & 0.9968 & 3.20   & 0.68   & 9.8    & 5     \\\\\n",
       "\t  7.8   & 0.76   & 0.04   & 2.3    & 0.092  & 15     & 54     & 0.9970 & 3.26   & 0.65   & 9.8    & 5     \\\\\n",
       "\t 11.2   & 0.28   & 0.56   & 1.9    & 0.075  & 17     & 60     & 0.9980 & 3.16   & 0.58   & 9.8    & 6     \\\\\n",
       "\t  7.4   & 0.70   & 0.00   & 1.9    & 0.076  & 11     & 34     & 0.9978 & 3.51   & 0.56   & 9.4    & 5     \\\\\n",
       "\t  7.4   & 0.66   & 0.00   & 1.8    & 0.075  & 13     & 40     & 0.9978 & 3.51   & 0.56   & 9.4    & 5     \\\\\n",
       "\\end{tabular}\n"
      ],
      "text/markdown": [
       "\n",
       "| fixed.acidity | volatile.acidity | citric.acid | residual.sugar | chlorides | free.sulfur.dioxide | total.sulfur.dioxide | density | pH | sulphates | alcohol | quality |\n",
       "|---|---|---|---|---|---|---|---|---|---|---|---|\n",
       "|  7.4   | 0.70   | 0.00   | 1.9    | 0.076  | 11     | 34     | 0.9978 | 3.51   | 0.56   | 9.4    | 5      |\n",
       "|  7.8   | 0.88   | 0.00   | 2.6    | 0.098  | 25     | 67     | 0.9968 | 3.20   | 0.68   | 9.8    | 5      |\n",
       "|  7.8   | 0.76   | 0.04   | 2.3    | 0.092  | 15     | 54     | 0.9970 | 3.26   | 0.65   | 9.8    | 5      |\n",
       "| 11.2   | 0.28   | 0.56   | 1.9    | 0.075  | 17     | 60     | 0.9980 | 3.16   | 0.58   | 9.8    | 6      |\n",
       "|  7.4   | 0.70   | 0.00   | 1.9    | 0.076  | 11     | 34     | 0.9978 | 3.51   | 0.56   | 9.4    | 5      |\n",
       "|  7.4   | 0.66   | 0.00   | 1.8    | 0.075  | 13     | 40     | 0.9978 | 3.51   | 0.56   | 9.4    | 5      |\n",
       "\n"
      ],
      "text/plain": [
       "  fixed.acidity volatile.acidity citric.acid residual.sugar chlorides\n",
       "1  7.4          0.70             0.00        1.9            0.076    \n",
       "2  7.8          0.88             0.00        2.6            0.098    \n",
       "3  7.8          0.76             0.04        2.3            0.092    \n",
       "4 11.2          0.28             0.56        1.9            0.075    \n",
       "5  7.4          0.70             0.00        1.9            0.076    \n",
       "6  7.4          0.66             0.00        1.8            0.075    \n",
       "  free.sulfur.dioxide total.sulfur.dioxide density pH   sulphates alcohol\n",
       "1 11                  34                   0.9978  3.51 0.56      9.4    \n",
       "2 25                  67                   0.9968  3.20 0.68      9.8    \n",
       "3 15                  54                   0.9970  3.26 0.65      9.8    \n",
       "4 17                  60                   0.9980  3.16 0.58      9.8    \n",
       "5 11                  34                   0.9978  3.51 0.56      9.4    \n",
       "6 13                  40                   0.9978  3.51 0.56      9.4    \n",
       "  quality\n",
       "1 5      \n",
       "2 5      \n",
       "3 5      \n",
       "4 6      \n",
       "5 5      \n",
       "6 5      "
      ]
     },
     "metadata": {},
     "output_type": "display_data"
    }
   ],
   "source": [
    "wine_data1 <- wine_data[which(abs(dffits(my_model)) - 2*sqrt(p/n) < 0),]\n",
    "head(wine_data1)"
   ]
  },
  {
   "cell_type": "code",
   "execution_count": 6,
   "id": "honest-chair",
   "metadata": {},
   "outputs": [
    {
     "data": {
      "text/html": [
       "1599"
      ],
      "text/latex": [
       "1599"
      ],
      "text/markdown": [
       "1599"
      ],
      "text/plain": [
       "[1] 1599"
      ]
     },
     "metadata": {},
     "output_type": "display_data"
    }
   ],
   "source": [
    "length(wine_data$pH)"
   ]
  },
  {
   "cell_type": "code",
   "execution_count": 7,
   "id": "designing-charm",
   "metadata": {},
   "outputs": [
    {
     "data": {
      "text/html": [
       "1487"
      ],
      "text/latex": [
       "1487"
      ],
      "text/markdown": [
       "1487"
      ],
      "text/plain": [
       "[1] 1487"
      ]
     },
     "metadata": {},
     "output_type": "display_data"
    }
   ],
   "source": [
    "length(wine_data1$pH)"
   ]
  },
  {
   "cell_type": "code",
   "execution_count": 8,
   "id": "thick-kelly",
   "metadata": {},
   "outputs": [],
   "source": [
    "fixed_acidity <- wine_data1$fixed.acidity\n",
    "volatile_acidity <- wine_data1$volatile.acidity\n",
    "citric_acid <- wine_data1$citric.acid\n",
    "residual_sugar <- wine_data1$residual.sugar\n",
    "chlorides <- wine_data1$chlorides\n",
    "free_sulfur_dioxide <- wine_data1$free.sulfur.dioxide\n",
    "total_sulfur_dioxide <- wine_data1$total.sulfur.dioxide\n",
    "density <- wine_data1$density\n",
    "pH <- wine_data1$pH\n",
    "sulphates <- wine_data1$sulphates\n",
    "alcohol <- wine_data1$alcohol\n",
    "quality <- wine_data1$quality"
   ]
  },
  {
   "cell_type": "code",
   "execution_count": 9,
   "id": "mounted-settle",
   "metadata": {},
   "outputs": [],
   "source": [
    "my_model1 <- lm(pH ~ fixed_acidity + volatile_acidity + citric_acid + residual_sugar + chlorides +\n",
    "                free_sulfur_dioxide + total_sulfur_dioxide + density + sulphates + alcohol + quality,\n",
    "                data = wine_data1)"
   ]
  },
  {
   "cell_type": "code",
   "execution_count": 10,
   "id": "elect-canadian",
   "metadata": {},
   "outputs": [
    {
     "data": {
      "text/plain": [
       "\n",
       "Call:\n",
       "lm(formula = pH ~ fixed_acidity + volatile_acidity + citric_acid + \n",
       "    residual_sugar + chlorides + free_sulfur_dioxide + total_sulfur_dioxide + \n",
       "    density + sulphates + alcohol + quality, data = wine_data1)\n",
       "\n",
       "Residuals:\n",
       "      Min        1Q    Median        3Q       Max \n",
       "-0.203378 -0.046776 -0.000256  0.046630  0.216711 \n",
       "\n",
       "Coefficients:\n",
       "                       Estimate Std. Error t value Pr(>|t|)    \n",
       "(Intercept)          -6.175e+01  2.095e+00 -29.468  < 2e-16 ***\n",
       "fixed_acidity        -9.751e-02  2.224e-03 -43.851  < 2e-16 ***\n",
       "volatile_acidity     -9.353e-04  1.477e-02  -0.063  0.94953    \n",
       "citric_acid          -3.531e-02  1.751e-02  -2.017  0.04391 *  \n",
       "residual_sugar       -2.875e-02  1.909e-03 -15.059  < 2e-16 ***\n",
       "chlorides            -5.608e-01  5.160e-02 -10.869  < 2e-16 ***\n",
       "free_sulfur_dioxide   1.206e-03  2.620e-04   4.603 4.52e-06 ***\n",
       "total_sulfur_dioxide -5.655e-04  8.437e-05  -6.703 2.90e-11 ***\n",
       "density               6.553e+01  2.100e+00  31.200  < 2e-16 ***\n",
       "sulphates            -4.540e-02  1.536e-02  -2.955  0.00317 ** \n",
       "alcohol               7.307e-02  2.770e-03  26.383  < 2e-16 ***\n",
       "quality              -7.786e-03  2.904e-03  -2.681  0.00741 ** \n",
       "---\n",
       "Signif. codes:  0 '***' 0.001 '**' 0.01 '*' 0.05 '.' 0.1 ' ' 1\n",
       "\n",
       "Residual standard error: 0.06993 on 1475 degrees of freedom\n",
       "Multiple R-squared:  0.7517,\tAdjusted R-squared:  0.7498 \n",
       "F-statistic: 405.9 on 11 and 1475 DF,  p-value: < 2.2e-16\n"
      ]
     },
     "metadata": {},
     "output_type": "display_data"
    }
   ],
   "source": [
    "summary(my_model1)"
   ]
  },
  {
   "cell_type": "markdown",
   "id": "imposed-round",
   "metadata": {},
   "source": [
    "As now we removed the outliers, we proceed with checking the model assumptions."
   ]
  },
  {
   "cell_type": "markdown",
   "id": "forced-calculator",
   "metadata": {},
   "source": [
    "## Checking Model Assumptions"
   ]
  },
  {
   "cell_type": "markdown",
   "id": "expressed-semiconductor",
   "metadata": {},
   "source": [
    "### Checking linearity "
   ]
  },
  {
   "cell_type": "code",
   "execution_count": 11,
   "id": "burning-producer",
   "metadata": {},
   "outputs": [
    {
     "data": {
      "image/png": "[encoded data removed]",
      "text/plain": [
       "Plot with title \"Residuals versus fitted values\""
      ]
     },
     "metadata": {},
     "output_type": "display_data"
    }
   ],
   "source": [
    "# Checking linearity\n",
    "options(repr.plot.width = 5, repr.plot.height = 4)\n",
    "plot(my_model$residuals ~ my_model$fitted, main = \"Residuals versus fitted values\", xlab = \"Fitted values\", ylab=\"Residuals\")\n",
    "abline(h = 0)"
   ]
  },
  {
   "cell_type": "markdown",
   "id": "entitled-herald",
   "metadata": {},
   "source": [
    "As there is no non-random pattern in this plot, we can conclude that **Linearity is satisfied.**"
   ]
  },
  {
   "cell_type": "markdown",
   "id": "nervous-safety",
   "metadata": {},
   "source": [
    "### Checking constant variance"
   ]
  },
  {
   "cell_type": "markdown",
   "id": "verified-ranch",
   "metadata": {},
   "source": [
    "From the residuals versus fitted values plot above, we can observe the shape close to *megaphone shape*. So, we may conclude that constant variance is violated.\n",
    "\n",
    "We can also use *Breusch-Pagan test.*"
   ]
  },
  {
   "cell_type": "code",
   "execution_count": 12,
   "id": "necessary-pollution",
   "metadata": {},
   "outputs": [
    {
     "name": "stderr",
     "output_type": "stream",
     "text": [
      "Warning message:\n",
      "\"package 'lmtest' was built under R version 3.6.3\"Loading required package: zoo\n",
      "\n",
      "Attaching package: 'zoo'\n",
      "\n",
      "The following objects are masked from 'package:base':\n",
      "\n",
      "    as.Date, as.Date.numeric\n",
      "\n"
     ]
    },
    {
     "data": {
      "text/plain": [
       "\n",
       "\tstudentized Breusch-Pagan test\n",
       "\n",
       "data:  my_model\n",
       "BP = 39.921, df = 11, p-value = 3.691e-05\n"
      ]
     },
     "metadata": {},
     "output_type": "display_data"
    }
   ],
   "source": [
    "library(lmtest)\n",
    "bptest(my_model)"
   ]
  },
  {
   "cell_type": "markdown",
   "id": "abandoned-military",
   "metadata": {},
   "source": [
    "Thereby, we **reject the null hypothesis of having a constant variance**, as it is rejected for all reasonable significance levels. (p-value = 3.691e-05)\n",
    "\n",
    "We conclude that **constant variance is violated.**"
   ]
  },
  {
   "cell_type": "markdown",
   "id": "identified-wilderness",
   "metadata": {},
   "source": [
    "### Checking normality of residuals"
   ]
  },
  {
   "cell_type": "code",
   "execution_count": 13,
   "id": "dramatic-worth",
   "metadata": {},
   "outputs": [
    {
     "data": {
      "image/png": "[encoded data removed]",
      "text/plain": [
       "Plot with title \"Normal Q-Q Plot\""
      ]
     },
     "metadata": {},
     "output_type": "display_data"
    }
   ],
   "source": [
    "qqnorm(my_model$residuals)\n",
    "qqline(my_model$residuals)"
   ]
  },
  {
   "cell_type": "markdown",
   "id": "numerical-connectivity",
   "metadata": {},
   "source": [
    "Normal Q-Q plot shows that the residuals are *approximately not normal*. So, to become more sure, we use **Shapiro-Wilk normality test.**"
   ]
  },
  {
   "cell_type": "code",
   "execution_count": 14,
   "id": "solar-samba",
   "metadata": {},
   "outputs": [
    {
     "data": {
      "text/plain": [
       "\n",
       "\tShapiro-Wilk normality test\n",
       "\n",
       "data:  my_model$residuals\n",
       "W = 0.98937, p-value = 2.075e-09\n"
      ]
     },
     "metadata": {},
     "output_type": "display_data"
    }
   ],
   "source": [
    "shapiro.test(my_model$residuals)"
   ]
  },
  {
   "cell_type": "markdown",
   "id": "known-comparative",
   "metadata": {},
   "source": [
    "Thereby, we **reject the null hypothesis of having normally distributed residuals**, as it is rejected for all reasonable significance levels. (p-value = 2.075e-09)\n",
    "\n",
    "We conclude that **normality of residuals is violated.**"
   ]
  },
  {
   "cell_type": "markdown",
   "id": "everyday-street",
   "metadata": {},
   "source": [
    "### Checking independence of residuals"
   ]
  },
  {
   "cell_type": "code",
   "execution_count": 15,
   "id": "green-westminster",
   "metadata": {},
   "outputs": [
    {
     "data": {
      "image/png": "[encoded data removed]",
      "text/plain": [
       "Plot with title \"Residuals versus indexes\""
      ]
     },
     "metadata": {},
     "output_type": "display_data"
    }
   ],
   "source": [
    "#Independence\n",
    "plot(my_model$residuals, main = \"Residuals versus indexes\", xlab = \"Indexes\", ylab = \"Residuals\")\n",
    "abline(h = 0)"
   ]
  },
  {
   "cell_type": "markdown",
   "id": "tamil-arrow",
   "metadata": {},
   "source": [
    "As there is some discernible pattern in the residuals versus indexes plot, we can say that *residuals are not independent*, which can be checked further by **Runs test of independence.**"
   ]
  },
  {
   "cell_type": "code",
   "execution_count": 16,
   "id": "downtown-excuse",
   "metadata": {},
   "outputs": [
    {
     "name": "stderr",
     "output_type": "stream",
     "text": [
      "Warning message:\n",
      "\"package 'lawstat' was built under R version 3.6.3\""
     ]
    },
    {
     "data": {
      "text/plain": [
       "\n",
       "\tRuns Test - Two sided\n",
       "\n",
       "data:  my_model$residuals\n",
       "Standardized Runs Statistic = -8.0299, p-value = 9.754e-16\n"
      ]
     },
     "metadata": {},
     "output_type": "display_data"
    }
   ],
   "source": [
    "library(lawstat)\n",
    "runs.test(my_model$residuals)"
   ]
  },
  {
   "cell_type": "markdown",
   "id": "related-lottery",
   "metadata": {},
   "source": [
    "Thereby, we **reject the null hypothesis of having independent residuals**, as it is rejected for all reasonable significance levels. (p-value = 8.921e-11)\n",
    "\n",
    "We conclude that **independence of residuals is violated.**"
   ]
  },
  {
   "cell_type": "markdown",
   "id": "quality-jacket",
   "metadata": {},
   "source": [
    "## Remedial Measures"
   ]
  },
  {
   "cell_type": "markdown",
   "id": "mighty-breast",
   "metadata": {},
   "source": [
    "### Box-Cox Transformation of response variable"
   ]
  },
  {
   "cell_type": "code",
   "execution_count": 25,
   "id": "based-assembly",
   "metadata": {},
   "outputs": [
    {
     "data": {
      "image/png": "[encoded data removed]",
      "text/plain": [
       "plot without title"
      ]
     },
     "metadata": {},
     "output_type": "display_data"
    }
   ],
   "source": [
    "library(MASS)\n",
    "boxcox(my_model1, plotit = TRUE, lambda = seq(-1.5, -1, by = 0.005))"
   ]
  },
  {
   "cell_type": "code",
   "execution_count": 29,
   "id": "promotional-impact",
   "metadata": {},
   "outputs": [],
   "source": [
    "pH0 = (pH^(-1.3)-1)/(-1.3)\n",
    "my_model0 <- lm(pH0 ~ fixed_acidity + volatile_acidity + citric_acid + residual_sugar + chlorides +\n",
    "                free_sulfur_dioxide + total_sulfur_dioxide + density + sulphates + alcohol + quality, data = wine_data1)"
   ]
  },
  {
   "cell_type": "code",
   "execution_count": 30,
   "id": "blocked-campus",
   "metadata": {},
   "outputs": [
    {
     "data": {
      "text/plain": [
       "\n",
       "Call:\n",
       "lm(formula = pH0 ~ fixed_acidity + volatile_acidity + citric_acid + \n",
       "    residual_sugar + chlorides + free_sulfur_dioxide + total_sulfur_dioxide + \n",
       "    density + sulphates + alcohol + quality, data = wine_data1)\n",
       "\n",
       "Residuals:\n",
       "       Min         1Q     Median         3Q        Max \n",
       "-0.0135201 -0.0028294  0.0000805  0.0029178  0.0136406 \n",
       "\n",
       "Coefficients:\n",
       "                       Estimate Std. Error t value Pr(>|t|)    \n",
       "(Intercept)          -3.526e+00  1.317e-01 -26.769  < 2e-16 ***\n",
       "fixed_acidity        -6.246e-03  1.398e-04 -44.688  < 2e-16 ***\n",
       "volatile_acidity     -4.776e-04  9.286e-04  -0.514 0.607114    \n",
       "citric_acid          -2.233e-03  1.100e-03  -2.029 0.042616 *  \n",
       "residual_sugar       -1.794e-03  1.200e-04 -14.948  < 2e-16 ***\n",
       "chlorides            -3.724e-02  3.243e-03 -11.484  < 2e-16 ***\n",
       "free_sulfur_dioxide   8.044e-05  1.647e-05   4.884 1.15e-06 ***\n",
       "total_sulfur_dioxide -3.660e-05  5.302e-06  -6.902 7.58e-12 ***\n",
       "density               4.164e+00  1.320e-01  31.541  < 2e-16 ***\n",
       "sulphates            -3.579e-03  9.657e-04  -3.706 0.000218 ***\n",
       "alcohol               4.582e-03  1.741e-04  26.321  < 2e-16 ***\n",
       "quality              -4.667e-04  1.825e-04  -2.557 0.010650 *  \n",
       "---\n",
       "Signif. codes:  0 '***' 0.001 '**' 0.01 '*' 0.05 '.' 0.1 ' ' 1\n",
       "\n",
       "Residual standard error: 0.004395 on 1475 degrees of freedom\n",
       "Multiple R-squared:  0.7592,\tAdjusted R-squared:  0.7575 \n",
       "F-statistic: 422.9 on 11 and 1475 DF,  p-value: < 2.2e-16\n"
      ]
     },
     "metadata": {},
     "output_type": "display_data"
    }
   ],
   "source": [
    "summary(my_model0)"
   ]
  },
  {
   "cell_type": "markdown",
   "id": "satisfactory-hunger",
   "metadata": {},
   "source": [
    "First of all, we now can see that Adjusted R-squared value increased from 0.6985 to 0.7563, showing improvement in the model. Box-Cox transformation is used to **remedy Normality of Errors**, let's check if it worked."
   ]
  },
  {
   "cell_type": "code",
   "execution_count": 31,
   "id": "designing-gates",
   "metadata": {},
   "outputs": [
    {
     "data": {
      "image/png": "[encoded data removed]",
      "text/plain": [
       "Plot with title \"Normal Q-Q Plot\""
      ]
     },
     "metadata": {},
     "output_type": "display_data"
    }
   ],
   "source": [
    "qqnorm(my_model0$residuals)\n",
    "qqline(my_model0$residuals)"
   ]
  },
  {
   "cell_type": "code",
   "execution_count": 33,
   "id": "radio-annex",
   "metadata": {},
   "outputs": [
    {
     "data": {
      "text/plain": [
       "\n",
       "\tShapiro-Wilk normality test\n",
       "\n",
       "data:  my_model0$residuals\n",
       "W = 0.99826, p-value = 0.1272\n"
      ]
     },
     "metadata": {},
     "output_type": "display_data"
    }
   ],
   "source": [
    "shapiro.test(my_model0$residuals)"
   ]
  },
  {
   "cell_type": "markdown",
   "id": "asian-texture",
   "metadata": {},
   "source": [
    "From our plot, we can see that now normality of errors is satisfied. Also, p-value of 0.1272 for Shapiro-Wilk test is rejected at, let's say, significance level of 0.05."
   ]
  },
  {
   "cell_type": "markdown",
   "id": "usual-discipline",
   "metadata": {},
   "source": [
    "Unfortunately, Box-Cox transformation did not help with violations of constant variance and independence as p-values are too low:"
   ]
  },
  {
   "cell_type": "code",
   "execution_count": 34,
   "id": "vertical-effects",
   "metadata": {},
   "outputs": [
    {
     "data": {
      "text/plain": [
       "\n",
       "\tstudentized Breusch-Pagan test\n",
       "\n",
       "data:  my_model0\n",
       "BP = 37.227, df = 11, p-value = 0.0001056\n"
      ]
     },
     "metadata": {},
     "output_type": "display_data"
    }
   ],
   "source": [
    "library(lmtest)\n",
    "bptest(my_model0)"
   ]
  },
  {
   "cell_type": "code",
   "execution_count": 36,
   "id": "pregnant-prevention",
   "metadata": {},
   "outputs": [
    {
     "data": {
      "image/png": "[encoded data removed]",
      "text/plain": [
       "Plot with title \"Residuals versus indexes\""
      ]
     },
     "metadata": {},
     "output_type": "display_data"
    }
   ],
   "source": [
    "#Independence\n",
    "plot(my_model0$residuals, main = \"Residuals versus indexes\", xlab = \"Indexes\", ylab = \"Residuals\")\n",
    "abline(h = 0)"
   ]
  },
  {
   "cell_type": "code",
   "execution_count": 37,
   "id": "nonprofit-integrity",
   "metadata": {},
   "outputs": [
    {
     "data": {
      "text/plain": [
       "\n",
       "\tRuns Test - Two sided\n",
       "\n",
       "data:  my_model0$residuals\n",
       "Standardized Runs Statistic = -6.6669, p-value = 2.613e-11\n"
      ]
     },
     "metadata": {},
     "output_type": "display_data"
    }
   ],
   "source": [
    "library(lawstat)\n",
    "runs.test(my_model0$residuals)"
   ]
  },
  {
   "cell_type": "markdown",
   "id": "military-details",
   "metadata": {},
   "source": [
    "## Weighted Least Squares"
   ]
  },
  {
   "cell_type": "code",
   "execution_count": 38,
   "id": "defined-wright",
   "metadata": {},
   "outputs": [
    {
     "data": {
      "text/plain": [
       "\n",
       "Call:\n",
       "lm(formula = abs(resid(my_model0)) ~ fixed_acidity + volatile_acidity + \n",
       "    citric_acid + residual_sugar + chlorides + free_sulfur_dioxide + \n",
       "    total_sulfur_dioxide + density + sulphates + alcohol + quality)\n",
       "\n",
       "Residuals:\n",
       "       Min         1Q     Median         3Q        Max \n",
       "-0.0041063 -0.0019863 -0.0005114  0.0014700  0.0100186 \n",
       "\n",
       "Coefficients:\n",
       "                       Estimate Std. Error t value Pr(>|t|)   \n",
       "(Intercept)          -1.423e-01  7.781e-02  -1.829  0.06761 . \n",
       "fixed_acidity         4.611e-05  8.258e-05   0.558  0.57667   \n",
       "volatile_acidity     -7.775e-04  5.487e-04  -1.417  0.15664   \n",
       "citric_acid          -9.899e-06  6.501e-04  -0.015  0.98785   \n",
       "residual_sugar       -1.858e-04  7.091e-05  -2.620  0.00889 **\n",
       "chlorides            -1.702e-03  1.916e-03  -0.888  0.37464   \n",
       "free_sulfur_dioxide  -5.127e-06  9.731e-06  -0.527  0.59835   \n",
       "total_sulfur_dioxide  2.042e-06  3.133e-06   0.652  0.51470   \n",
       "density               1.477e-01  7.800e-02   1.893  0.05852 . \n",
       "sulphates            -8.278e-05  5.705e-04  -0.145  0.88466   \n",
       "alcohol              -3.231e-05  1.029e-04  -0.314  0.75344   \n",
       "quality              -6.133e-05  1.078e-04  -0.569  0.56958   \n",
       "---\n",
       "Signif. codes:  0 '***' 0.001 '**' 0.01 '*' 0.05 '.' 0.1 ' ' 1\n",
       "\n",
       "Residual standard error: 0.002597 on 1475 degrees of freedom\n",
       "Multiple R-squared:  0.02121,\tAdjusted R-squared:  0.01391 \n",
       "F-statistic: 2.906 on 11 and 1475 DF,  p-value: 0.0008462\n"
      ]
     },
     "metadata": {},
     "output_type": "display_data"
    }
   ],
   "source": [
    "#Regress absolute values of residuals versus predictors\n",
    "abs_residuals <- lm(abs(resid(my_model0)) ~ fixed_acidity + volatile_acidity + citric_acid + residual_sugar +\n",
    "                    chlorides + free_sulfur_dioxide + total_sulfur_dioxide + density + sulphates + alcohol + quality)\n",
    "summary(abs_residuals)"
   ]
  },
  {
   "cell_type": "code",
   "execution_count": 39,
   "id": "seeing-chain",
   "metadata": {},
   "outputs": [],
   "source": [
    "#Run WLS\n",
    "w=1/((abs_residuals$fitted.values)^2)\n",
    "my_model1 <- lm(pH0 ~ fixed_acidity + volatile_acidity + citric_acid + residual_sugar + chlorides +\n",
    "                free_sulfur_dioxide + total_sulfur_dioxide + density + sulphates + alcohol + quality, weights = w)"
   ]
  },
  {
   "cell_type": "code",
   "execution_count": 40,
   "id": "bridal-edition",
   "metadata": {},
   "outputs": [
    {
     "data": {
      "text/plain": [
       "\n",
       "Call:\n",
       "lm(formula = pH0 ~ fixed_acidity + volatile_acidity + citric_acid + \n",
       "    residual_sugar + chlorides + free_sulfur_dioxide + total_sulfur_dioxide + \n",
       "    density + sulphates + alcohol + quality, weights = w)\n",
       "\n",
       "Weighted Residuals:\n",
       "    Min      1Q  Median      3Q     Max \n",
       "-3.8704 -0.8310  0.0238  0.8530  3.6079 \n",
       "\n",
       "Coefficients:\n",
       "                       Estimate Std. Error t value Pr(>|t|)    \n",
       "(Intercept)          -3.469e+00  1.272e-01 -27.284  < 2e-16 ***\n",
       "fixed_acidity        -6.263e-03  1.393e-04 -44.951  < 2e-16 ***\n",
       "volatile_acidity     -5.427e-05  8.801e-04  -0.062 0.950842    \n",
       "citric_acid          -2.577e-03  1.070e-03  -2.409 0.016128 *  \n",
       "residual_sugar       -1.679e-03  9.301e-05 -18.054  < 2e-16 ***\n",
       "chlorides            -3.666e-02  3.008e-03 -12.188  < 2e-16 ***\n",
       "free_sulfur_dioxide   7.614e-05  1.498e-05   5.081 4.23e-07 ***\n",
       "total_sulfur_dioxide -3.604e-05  4.902e-06  -7.351 3.24e-13 ***\n",
       "density               4.107e+00  1.274e-01  32.229  < 2e-16 ***\n",
       "sulphates            -3.474e-03  9.557e-04  -3.635 0.000288 ***\n",
       "alcohol               4.634e-03  1.674e-04  27.683  < 2e-16 ***\n",
       "quality              -4.881e-04  1.739e-04  -2.807 0.005059 ** \n",
       "---\n",
       "Signif. codes:  0 '***' 0.001 '**' 0.01 '*' 0.05 '.' 0.1 ' ' 1\n",
       "\n",
       "Residual standard error: 1.244 on 1475 degrees of freedom\n",
       "Multiple R-squared:   0.77,\tAdjusted R-squared:  0.7683 \n",
       "F-statistic: 448.9 on 11 and 1475 DF,  p-value: < 2.2e-16\n"
      ]
     },
     "metadata": {},
     "output_type": "display_data"
    }
   ],
   "source": [
    "summary(my_model1)"
   ]
  },
  {
   "cell_type": "markdown",
   "id": "piano-object",
   "metadata": {},
   "source": [
    "Comparing with OLS case, Adjusted R-squared value increased from 0.7575 to 0.7683 which is a positive improvement. \n",
    "\n",
    "As WLS is the remedy for non-constant / non-homogenous variance, let's see how it helps."
   ]
  },
  {
   "cell_type": "code",
   "execution_count": 42,
   "id": "resistant-foundation",
   "metadata": {},
   "outputs": [
    {
     "data": {
      "text/plain": [
       "\n",
       "\tstudentized Breusch-Pagan test\n",
       "\n",
       "data:  my_model0\n",
       "BP = 37.227, df = 11, p-value = 0.0001056\n"
      ]
     },
     "metadata": {},
     "output_type": "display_data"
    }
   ],
   "source": [
    "library(lmtest)\n",
    "bptest(my_model0)"
   ]
  },
  {
   "cell_type": "markdown",
   "id": "cleared-series",
   "metadata": {},
   "source": [
    "Unfortunately, both remedies didn't help to fix the issue. It also could not overcome not independent errors as you can see below."
   ]
  },
  {
   "cell_type": "code",
   "execution_count": 43,
   "id": "suspected-accounting",
   "metadata": {},
   "outputs": [
    {
     "data": {
      "text/plain": [
       "\n",
       "\tRuns Test - Two sided\n",
       "\n",
       "data:  my_model0$residuals\n",
       "Standardized Runs Statistic = -6.6669, p-value = 2.613e-11\n"
      ]
     },
     "metadata": {},
     "output_type": "display_data"
    }
   ],
   "source": [
    "library(lawstat)\n",
    "runs.test(my_model0$residuals)"
   ]
  },
  {
   "cell_type": "markdown",
   "id": "computational-organization",
   "metadata": {},
   "source": [
    "As the remedies did not help, I suggest that multiple linear regression can't be used to model pH versus parameters of wine. So, we will just focus on improving the model."
   ]
  },
  {
   "cell_type": "markdown",
   "id": "forty-worker",
   "metadata": {},
   "source": [
    "### Backward Elimination"
   ]
  },
  {
   "cell_type": "code",
   "execution_count": 48,
   "id": "victorian-airport",
   "metadata": {},
   "outputs": [
    {
     "ename": "ERROR",
     "evalue": "Error in model.frame.default(formula = paste(response, \"~\", paste(preds, : неправильный (closure) тип переменной 'density'\n",
     "output_type": "error",
     "traceback": [
      "Error in model.frame.default(formula = paste(response, \"~\", paste(preds, : неправильный (closure) тип переменной 'density'\nTraceback:\n",
      "1. ols_step_backward_p(my_model1)",
      "2. ols_step_backward_p.default(my_model1)",
      "3. lm(paste(response, \"~\", paste(preds, collapse = \" + \")), l)",
      "4. eval(mf, parent.frame())",
      "5. eval(mf, parent.frame())",
      "6. stats::model.frame(formula = paste(response, \"~\", paste(preds, \n .     collapse = \" + \")), data = l, drop.unused.levels = TRUE)",
      "7. model.frame.default(formula = paste(response, \"~\", paste(preds, \n .     collapse = \" + \")), data = l, drop.unused.levels = TRUE)"
     ]
    }
   ],
   "source": [
    "library(olsrr)"
   ]
  },
  {
   "cell_type": "code",
   "execution_count": 50,
   "id": "neutral-overhead",
   "metadata": {},
   "outputs": [
    {
     "data": {
      "text/plain": [
       "\n",
       "\n",
       "                                Elimination Summary                                  \n",
       "------------------------------------------------------------------------------------\n",
       "        Variable                          Adj.                                          \n",
       "Step        Removed         R-Square    R-Square     C(p)          AIC         RMSE     \n",
       "------------------------------------------------------------------------------------\n",
       "   1    volatile_acidity      0.7592      0.7576    10.2645    -11908.3991    0.0044    \n",
       "------------------------------------------------------------------------------------"
      ]
     },
     "metadata": {},
     "output_type": "display_data"
    }
   ],
   "source": [
    "ols_step_backward_p(my_model0)"
   ]
  },
  {
   "cell_type": "markdown",
   "id": "assigned-compromise",
   "metadata": {},
   "source": [
    "It could also be seen that volatile_acidity had not favourable p-value in all of the models, so we drop it from our model."
   ]
  },
  {
   "cell_type": "code",
   "execution_count": 52,
   "id": "bound-crash",
   "metadata": {},
   "outputs": [],
   "source": [
    "my_model2 <- lm(pH0 ~ fixed_acidity + citric_acid + residual_sugar + chlorides +\n",
    "                free_sulfur_dioxide + total_sulfur_dioxide + density + sulphates + alcohol + quality, weights = w)"
   ]
  },
  {
   "cell_type": "code",
   "execution_count": 53,
   "id": "double-shuttle",
   "metadata": {},
   "outputs": [
    {
     "data": {
      "text/plain": [
       "\n",
       "Call:\n",
       "lm(formula = pH0 ~ fixed_acidity + citric_acid + residual_sugar + \n",
       "    chlorides + free_sulfur_dioxide + total_sulfur_dioxide + \n",
       "    density + sulphates + alcohol + quality, weights = w)\n",
       "\n",
       "Weighted Residuals:\n",
       "    Min      1Q  Median      3Q     Max \n",
       "-3.8700 -0.8301  0.0232  0.8525  3.6091 \n",
       "\n",
       "Coefficients:\n",
       "                       Estimate Std. Error t value Pr(>|t|)    \n",
       "(Intercept)          -3.468e+00  1.256e-01 -27.619  < 2e-16 ***\n",
       "fixed_acidity        -6.263e-03  1.387e-04 -45.171  < 2e-16 ***\n",
       "citric_acid          -2.541e-03  8.966e-04  -2.834 0.004656 ** \n",
       "residual_sugar       -1.679e-03  9.285e-05 -18.082  < 2e-16 ***\n",
       "chlorides            -3.671e-02  2.914e-03 -12.597  < 2e-16 ***\n",
       "free_sulfur_dioxide   7.626e-05  1.485e-05   5.134 3.21e-07 ***\n",
       "total_sulfur_dioxide -3.609e-05  4.827e-06  -7.476 1.31e-13 ***\n",
       "density               4.105e+00  1.257e-01  32.648  < 2e-16 ***\n",
       "sulphates            -3.465e-03  9.440e-04  -3.671 0.000251 ***\n",
       "alcohol               4.633e-03  1.656e-04  27.972  < 2e-16 ***\n",
       "quality              -4.863e-04  1.712e-04  -2.840 0.004576 ** \n",
       "---\n",
       "Signif. codes:  0 '***' 0.001 '**' 0.01 '*' 0.05 '.' 0.1 ' ' 1\n",
       "\n",
       "Residual standard error: 1.244 on 1476 degrees of freedom\n",
       "Multiple R-squared:   0.77,\tAdjusted R-squared:  0.7684 \n",
       "F-statistic: 494.1 on 10 and 1476 DF,  p-value: < 2.2e-16\n"
      ]
     },
     "metadata": {},
     "output_type": "display_data"
    }
   ],
   "source": [
    "summary(my_model2)"
   ]
  },
  {
   "cell_type": "markdown",
   "id": "three-toddler",
   "metadata": {},
   "source": [
    "Adjusted R-squared value improved a bit from 0.7683 to 0.7684, so it was reasonable to do it. Let's check AIC and BIC values too."
   ]
  },
  {
   "cell_type": "code",
   "execution_count": 55,
   "id": "textile-american",
   "metadata": {},
   "outputs": [
    {
     "data": {
      "text/html": [
       "-11906.6657328011"
      ],
      "text/latex": [
       "-11906.6657328011"
      ],
      "text/markdown": [
       "-11906.6657328011"
      ],
      "text/plain": [
       "[1] -11906.67"
      ]
     },
     "metadata": {},
     "output_type": "display_data"
    }
   ],
   "source": [
    "AIC(my_model0) #before remedies"
   ]
  },
  {
   "cell_type": "code",
   "execution_count": 58,
   "id": "solar-nursery",
   "metadata": {},
   "outputs": [
    {
     "data": {
      "text/html": [
       "-11945.1194287135"
      ],
      "text/latex": [
       "-11945.1194287135"
      ],
      "text/markdown": [
       "-11945.1194287135"
      ],
      "text/plain": [
       "[1] -11945.12"
      ]
     },
     "metadata": {},
     "output_type": "display_data"
    }
   ],
   "source": [
    "AIC(my_model1) #before removing a predictor"
   ]
  },
  {
   "cell_type": "code",
   "execution_count": 59,
   "id": "forbidden-messenger",
   "metadata": {},
   "outputs": [
    {
     "data": {
      "text/html": [
       "-11945.1194287135"
      ],
      "text/latex": [
       "-11945.1194287135"
      ],
      "text/markdown": [
       "-11945.1194287135"
      ],
      "text/plain": [
       "[1] -11945.12"
      ]
     },
     "metadata": {},
     "output_type": "display_data"
    }
   ],
   "source": [
    "AIC(my_model2)"
   ]
  },
  {
   "cell_type": "code",
   "execution_count": 60,
   "id": "figured-sewing",
   "metadata": {},
   "outputs": [
    {
     "data": {
      "text/html": [
       "-11837.7070254971"
      ],
      "text/latex": [
       "-11837.7070254971"
      ],
      "text/markdown": [
       "-11837.7070254971"
      ],
      "text/plain": [
       "[1] -11837.71"
      ]
     },
     "metadata": {},
     "output_type": "display_data"
    }
   ],
   "source": [
    "BIC(my_model0)"
   ]
  },
  {
   "cell_type": "code",
   "execution_count": 61,
   "id": "hollow-context",
   "metadata": {},
   "outputs": [
    {
     "data": {
      "text/html": [
       "-11881.465237356"
      ],
      "text/latex": [
       "-11881.465237356"
      ],
      "text/markdown": [
       "-11881.465237356"
      ],
      "text/plain": [
       "[1] -11881.47"
      ]
     },
     "metadata": {},
     "output_type": "display_data"
    }
   ],
   "source": [
    "BIC(my_model1)"
   ]
  },
  {
   "cell_type": "code",
   "execution_count": 62,
   "id": "returning-purpose",
   "metadata": {},
   "outputs": [
    {
     "data": {
      "text/html": [
       "-11881.465237356"
      ],
      "text/latex": [
       "-11881.465237356"
      ],
      "text/markdown": [
       "-11881.465237356"
      ],
      "text/plain": [
       "[1] -11881.47"
      ]
     },
     "metadata": {},
     "output_type": "display_data"
    }
   ],
   "source": [
    "BIC(my_model2)"
   ]
  },
  {
   "cell_type": "markdown",
   "id": "essential-conditioning",
   "metadata": {},
   "source": [
    "As AIC and BIC values didn't change, we decide to not to remove volatile_acidity to keep the interpretability of the model."
   ]
  },
  {
   "cell_type": "markdown",
   "id": "adult-effectiveness",
   "metadata": {},
   "source": [
    "## Conclusion"
   ]
  },
  {
   "cell_type": "markdown",
   "id": "personalized-remedy",
   "metadata": {},
   "source": [
    "pH value of red wine actually depends on the given parameters:\n",
    "- **Fixed Acidity**\n",
    "- **Volatile Acidity**\n",
    "- **Citric Acid**\n",
    "- **Residual Sugar**\n",
    "- **Chlorides**\n",
    "- **Free Sulfur Dioxide**\n",
    "- **Total Sulfur Dioxide**\n",
    "- **Density**\n",
    "- **Sulphates**\n",
    "- **Alcohol**\n",
    "- **Quality**\n",
    "\n",
    "It can be adjusted using the multiple regression we produced. Indeed, I think we can't use linear regression due to the failed assumptions and remedies not being able to solve the issue. So, this relationship can be modeled using only multiple nonlinear regression."
   ]
  }
 ],
 "metadata": {
  "kernelspec": {
   "display_name": "R",
   "language": "R",
   "name": "ir"
  },
  "language_info": {
   "codemirror_mode": "r",
   "file_extension": ".r",
   "mimetype": "text/x-r-source",
   "name": "R",
   "pygments_lexer": "r",
   "version": "3.6.1"
  }
 },
 "nbformat": 4,
 "nbformat_minor": 5
}
